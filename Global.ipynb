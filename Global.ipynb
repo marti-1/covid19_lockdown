{
 "cells": [
  {
   "cell_type": "markdown",
   "metadata": {},
   "source": [
    "# Report\n",
    "\n",
    "## Data sources\n",
    "\n",
    "**Government response**:\n",
    "* [CORONAVIRUS GOVERNMENT RESPONSE TRACKER](https://www.bsg.ox.ac.uk/research/research-projects/coronavirus-government-response-tracker#data)\n",
    "\n",
    "**Covid-19 deaths**:\n",
    "* [COVID-19 Data Repository by the Center for Systems Science and Engineering (CSSE) at Johns Hopkins University](https://github.com/CSSEGISandData/COVID-19)\n",
    "* [England & Wales](https://www.ons.gov.uk/peoplepopulationandcommunity/birthsdeathsandmarriages/deaths/bulletins/deathsregisteredweeklyinenglandandwalesprovisional/weekending8january2021)\n",
    "\n",
    "### Information about the data\n",
    "\n",
    "#### CORONAVIRUS GOVERNMENT RESPONSE TRACKER\n",
    "\n",
    "The dataset provides `StringencyIndex` value for every country by date, which combines categorical variables `C1-C8` using the following formula:\n",
    "\n",
    "$$\n",
    "\\text{index} = \\frac{1}{k} \\sum_{j=1}^k I_j \\\\\n",
    "$$\n",
    "\n",
    "Each sub-index score (_I_) for any given indicator (_j_) on any given day (_t_), is calculated by the function described in equation 2 based on the following parameters:\n",
    "\n",
    "- the maximum value of the indicator (_N<sub>j</sub>_)\n",
    "- whether that indicator has a flag (_F<sub>j</sub>_=1 if the indicator has a flag variable, or 0 if the indicator does not have a flag variable)\n",
    "- the recorded policy value on the ordinal scale (_v<sub>j,t</sub>_)\n",
    "- the recorded binary flag for that indicator (_f<sub>j,t</sub>_)\n",
    "\n",
    "$$\n",
    "I_{j,t} = 100 \\frac{v_{j,t} - 0.5(F_j - f_{j,t})}{N_j}\n",
    "$$\n",
    "\n",
    "**Indicators C1-C8**\n",
    "\n",
    "### Containment and closure policies\n",
    "\n",
    "| ID | Name | Description | Measurement | Coding |\n",
    "| --- | --- | --- | --- | --- |\n",
    "| C1 | `C1_School closing` | Record closings of schools and universities | Ordinal scale | 0 - no measures <br/>1 - recommend closing or all schools open with alterations resulting in significant differences compared to non-Covid-19 operations <br/>2 - require closing (only some levels or categories, eg just high school, or just public schools) <br/>3 - require closing all levels <br/>Blank - no data |\n",
    "| | `C1_Flag` | | Binary flag for geographic scope | 0 - targeted <br/>1- general <br/>Blank - no data |\n",
    "| C2 | `C2_Workplace closing` | Record closings of workplaces | Ordinal scale | 0 - no measures <br/>1 - recommend closing (or recommend work from home) <br/>2 - require closing (or work from home) for some sectors or categories of workers <br/>3 - require closing (or work from home) for all-but-essential workplaces (eg grocery stores, doctors) <br/>Blank - no data |\n",
    "| | `C2_Flag` | | Binary flag for geographic scope | 0 - targeted <br/>1- general <br/>Blank - no data |\n",
    "| C3 | `C3_Cancel public events` | Record cancelling public events | Ordinal scale | 0 - no measures <br/>1 - recommend cancelling <br/>2 - require cancelling <br/>Blank - no data |\n",
    "| | `C3_Flag` | | Binary flag for geographic scope | 0 - targeted <br/>1- general <br/>Blank - no data |\n",
    "| C4 | `C4_Restrictions on gatherings` | Record limits on gatherings | Ordinal scale | 0 - no restrictions <br/>1 - restrictions on very large gatherings (the limit is above 1000 people) <br/>2 - restrictions on gatherings between 101-1000 people <br/>3 - restrictions on gatherings between 11-100 people <br/>4 - restrictions on gatherings of 10 people or less <br/>Blank - no data |\n",
    "| | `C4_Flag` | | Binary flag for geographic scope | 0 - targeted <br/>1- general <br/>Blank - no data |\n",
    "| C5 | `C5_Close public transport` | Record closing of public transport | Ordinal scale | 0 - no measures <br/>1 - recommend closing (or significantly reduce volume/route/means of transport available) <br/>2 - require closing (or prohibit most citizens from using it) <br/>Blank - no data |\n",
    "| | `C5_Flag` | | Binary flag for geographic scope | 0 - targeted <br/>1- general <br/>Blank - no data |\n",
    "| C6 | `C6_Stay at home requirements` | Record orders to \"shelter-in-place\" and otherwise confine to the home | Ordinal scale | 0 - no measures <br/>1 - recommend not leaving house <br/>2 - require not leaving house with exceptions for daily exercise, grocery shopping, and 'essential' trips <br/>3 - require not leaving house with minimal exceptions (eg allowed to leave once a week, or only one person can leave at a time, etc) <br/>Blank - no data |\n",
    "| | `C6_Flag` | | Binary flag for geographic scope | 0 - targeted <br/>1- general <br/>Blank - no data |\n",
    "| C7 | `C7_Restrictions on internal movement` | Record restrictions on internal movement between cities/regions | Ordinal scale | 0 - no measures <br/>1 - recommend not to travel between regions/cities <br/>2 - internal movement restrictions in place <br/>Blank - no data |\n",
    "| | `C7_Flag` | | Binary flag for geographic scope | 0 - targeted <br/>1- general <br/>Blank - no data |\n",
    "| C8 | `C8_International travel controls` | Record restrictions on international travel <br/><br/>Note: this records policy for foreign travellers, not citizens | Ordinal scale | 0 - no restrictions <br/>1 - screening arrivals <br/>2 - quarantine arrivals from some or all regions <br/>3 - ban arrivals from some regions <br/>4 - ban on all regions or total border closure <br/>Blank - no data |\n",
    "\n",
    "Summary:\n",
    "\n",
    "| Indicator | Max. value (_N<sub>j</sub>_) | Flag? (_F<sub>j</sub>_) |\n",
    "| --- | --- | --- |\n",
    "| C1 | 3 (0, 1, 2, 3) | yes=1 |\n",
    "| C2 | 3 (0, 1, 2, 3) | yes=1 |\n",
    "| C3 | 2 (0, 1, 2) | yes=1 |\n",
    "| C4 | 4 (0, 1, 2, 3, 4) | yes=1 |\n",
    "| C5 | 2 (0, 1, 2) | yes=1 |\n",
    "| C6 | 3 (0, 1, 2, 3) | yes=1 |\n",
    "| C7 | 2 (0, 1, 2) | yes=1 |\n",
    "| C8 | 4 (0, 1, 2, 3, 4) | no=0 |\n",
    "\n",
    "More information on other [indicators](https://github.com/OxCGRT/covid-policy-tracker/blob/master/documentation/codebook.md) and how indices are [computed](https://github.com/OxCGRT/covid-policy-tracker/blob/master/documentation/index_methodology.md)."
   ]
  },
  {
   "cell_type": "markdown",
   "metadata": {},
   "source": [
    "## Correlation between stringent policies and saved lives\n",
    "\n",
    "Assumptions:\n",
    "- Stringency of policies of every country is quantized as an average StringencyIndex.\n",
    "- Efficiency of every country is measured as deaths per million (DPM)."
   ]
  },
  {
   "cell_type": "code",
   "execution_count": 84,
   "metadata": {},
   "outputs": [],
   "source": [
    "source('funcs.R')"
   ]
  },
  {
   "cell_type": "code",
   "execution_count": 2,
   "metadata": {},
   "outputs": [
    {
     "name": "stderr",
     "output_type": "stream",
     "text": [
      "`summarise()` ungrouping output (override with `.groups` argument)\n",
      "\n",
      "`summarise()` regrouping output by 'CountryName' (override with `.groups` argument)\n",
      "\n"
     ]
    }
   ],
   "source": [
    "# get every country average StringencyIndex and total deaths per million.\n",
    "data = load_data()"
   ]
  },
  {
   "cell_type": "markdown",
   "metadata": {},
   "source": [
    "**Worldwide**"
   ]
  },
  {
   "cell_type": "code",
   "execution_count": 3,
   "metadata": {},
   "outputs": [
    {
     "data": {
      "image/png": "[encoded data removed]",
      "text/plain": [
       "plot without title"
      ]
     },
     "metadata": {
      "image/png": {
       "height": 360,
       "width": 600
      }
     },
     "output_type": "display_data"
    }
   ],
   "source": [
    "options(repr.plot.width = 10, repr.plot.height=6)\n",
    "stringency_vs_dpm_plot(data$avg_si_vs_dpm) + labs(title='Avg(Stringency) ~ DPM')"
   ]
  },
  {
   "cell_type": "markdown",
   "metadata": {},
   "source": [
    "Having average `StringencyIndex` in a range of 50-59 is deadliest. Number of deaths tends to decrease with either having less restrictions or more. I can think of the following explanations for these results:\n",
    "\n",
    "1. Being in the middle means that population is not allowed to develop herd immunity and at the same time restrictions are not strict enough to prevent the virus from spreading.\n",
    "2. Poor countries might be \"younger\", thus the virus is less deadly even without any restrictions.\n",
    "3. Death counts are not reported accurately by poor or non-transparent countries.\n",
    "\n",
    "**NOTE**. The above graph excludes the following countries: Brazil, United States, Canada, United Kingdom. This is due to their stringency measures being split by region and I currently don't have deaths data by region for all of those countries.\n",
    "\n",
    "We can have a look at countries with low average `StringencyIndex` just to see what makes the non-restrictive sample:"
   ]
  },
  {
   "cell_type": "code",
   "execution_count": 18,
   "metadata": {},
   "outputs": [
    {
     "data": {
      "text/html": [
       "<table class=\"dataframe\">\n",
       "<caption>A tibble: 15 × 7</caption>\n",
       "<thead>\n",
       "\t<tr><th scope=col>CountryCode</th><th scope=col>continent</th><th scope=col>CountryName</th><th scope=col>mean_si</th><th scope=col>dpm</th><th scope=col>mean_si_group</th><th scope=col>dpm_group</th></tr>\n",
       "\t<tr><th scope=col>&lt;chr&gt;</th><th scope=col>&lt;chr&gt;</th><th scope=col>&lt;chr&gt;</th><th scope=col>&lt;dbl&gt;</th><th scope=col>&lt;dbl&gt;</th><th scope=col>&lt;fct&gt;</th><th scope=col>&lt;fct&gt;</th></tr>\n",
       "</thead>\n",
       "<tbody>\n",
       "\t<tr><td>BDI</td><td>Africa       </td><td>Burundi     </td><td>13.89500</td><td>  0.168</td><td>10  -  19</td><td>0  -  499</td></tr>\n",
       "\t<tr><td>NIC</td><td>North America</td><td>Nicaragua   </td><td>14.73781</td><td> 25.360</td><td>10  -  19</td><td>0  -  499</td></tr>\n",
       "\t<tr><td>BLR</td><td>Europe       </td><td>Belarus     </td><td>17.28557</td><td>169.430</td><td>10  -  19</td><td>0  -  499</td></tr>\n",
       "\t<tr><td>TWN</td><td>Asia         </td><td>Taiwan      </td><td>24.46106</td><td>  0.294</td><td>20  -  29</td><td>0  -  499</td></tr>\n",
       "\t<tr><td>TZA</td><td>Africa       </td><td>Tanzania    </td><td>27.57467</td><td>  0.352</td><td>20  -  29</td><td>0  -  499</td></tr>\n",
       "\t<tr><td>NER</td><td>Africa       </td><td>Niger       </td><td>30.08572</td><td>  6.031</td><td>30  -  39</td><td>0  -  499</td></tr>\n",
       "\t<tr><td>MUS</td><td>Africa       </td><td>Mauritius   </td><td>35.31603</td><td>  7.863</td><td>30  -  39</td><td>0  -  499</td></tr>\n",
       "\t<tr><td>YEM</td><td>Asia         </td><td>Yemen       </td><td>35.94789</td><td> 20.519</td><td>30  -  39</td><td>0  -  499</td></tr>\n",
       "\t<tr><td>JPN</td><td>Asia         </td><td>Japan       </td><td>36.09442</td><td> 37.003</td><td>30  -  39</td><td>0  -  499</td></tr>\n",
       "\t<tr><td>NZL</td><td>Oceania      </td><td>New Zealand </td><td>39.08291</td><td>  5.184</td><td>30  -  39</td><td>0  -  499</td></tr>\n",
       "\t<tr><td>EST</td><td>Europe       </td><td>Estonia     </td><td>39.36933</td><td>259.321</td><td>30  -  39</td><td>0  -  499</td></tr>\n",
       "\t<tr><td>SYC</td><td>Africa       </td><td>Seychelles  </td><td>40.04352</td><td> 20.338</td><td>40  -  49</td><td>0  -  499</td></tr>\n",
       "\t<tr><td>SOM</td><td>Africa       </td><td>Somalia     </td><td>40.43750</td><td>  8.180</td><td>40  -  49</td><td>0  -  499</td></tr>\n",
       "\t<tr><td>FIN</td><td>Europe       </td><td>Finland     </td><td>41.10017</td><td>112.079</td><td>40  -  49</td><td>0  -  499</td></tr>\n",
       "\t<tr><td>BFA</td><td>Africa       </td><td>Burkina Faso</td><td>42.91691</td><td>  5.023</td><td>40  -  49</td><td>0  -  499</td></tr>\n",
       "</tbody>\n",
       "</table>\n"
      ],
      "text/latex": [
       "A tibble: 15 × 7\n",
       "\\begin{tabular}{lllllll}\n",
       " CountryCode & continent & CountryName & mean\\_si & dpm & mean\\_si\\_group & dpm\\_group\\\\\n",
       " <chr> & <chr> & <chr> & <dbl> & <dbl> & <fct> & <fct>\\\\\n",
       "\\hline\n",
       "\t BDI & Africa        & Burundi      & 13.89500 &   0.168 & 10  -  19 & 0  -  499\\\\\n",
       "\t NIC & North America & Nicaragua    & 14.73781 &  25.360 & 10  -  19 & 0  -  499\\\\\n",
       "\t BLR & Europe        & Belarus      & 17.28557 & 169.430 & 10  -  19 & 0  -  499\\\\\n",
       "\t TWN & Asia          & Taiwan       & 24.46106 &   0.294 & 20  -  29 & 0  -  499\\\\\n",
       "\t TZA & Africa        & Tanzania     & 27.57467 &   0.352 & 20  -  29 & 0  -  499\\\\\n",
       "\t NER & Africa        & Niger        & 30.08572 &   6.031 & 30  -  39 & 0  -  499\\\\\n",
       "\t MUS & Africa        & Mauritius    & 35.31603 &   7.863 & 30  -  39 & 0  -  499\\\\\n",
       "\t YEM & Asia          & Yemen        & 35.94789 &  20.519 & 30  -  39 & 0  -  499\\\\\n",
       "\t JPN & Asia          & Japan        & 36.09442 &  37.003 & 30  -  39 & 0  -  499\\\\\n",
       "\t NZL & Oceania       & New Zealand  & 39.08291 &   5.184 & 30  -  39 & 0  -  499\\\\\n",
       "\t EST & Europe        & Estonia      & 39.36933 & 259.321 & 30  -  39 & 0  -  499\\\\\n",
       "\t SYC & Africa        & Seychelles   & 40.04352 &  20.338 & 40  -  49 & 0  -  499\\\\\n",
       "\t SOM & Africa        & Somalia      & 40.43750 &   8.180 & 40  -  49 & 0  -  499\\\\\n",
       "\t FIN & Europe        & Finland      & 41.10017 & 112.079 & 40  -  49 & 0  -  499\\\\\n",
       "\t BFA & Africa        & Burkina Faso & 42.91691 &   5.023 & 40  -  49 & 0  -  499\\\\\n",
       "\\end{tabular}\n"
      ],
      "text/markdown": [
       "\n",
       "A tibble: 15 × 7\n",
       "\n",
       "| CountryCode &lt;chr&gt; | continent &lt;chr&gt; | CountryName &lt;chr&gt; | mean_si &lt;dbl&gt; | dpm &lt;dbl&gt; | mean_si_group &lt;fct&gt; | dpm_group &lt;fct&gt; |\n",
       "|---|---|---|---|---|---|---|\n",
       "| BDI | Africa        | Burundi      | 13.89500 |   0.168 | 10  -  19 | 0  -  499 |\n",
       "| NIC | North America | Nicaragua    | 14.73781 |  25.360 | 10  -  19 | 0  -  499 |\n",
       "| BLR | Europe        | Belarus      | 17.28557 | 169.430 | 10  -  19 | 0  -  499 |\n",
       "| TWN | Asia          | Taiwan       | 24.46106 |   0.294 | 20  -  29 | 0  -  499 |\n",
       "| TZA | Africa        | Tanzania     | 27.57467 |   0.352 | 20  -  29 | 0  -  499 |\n",
       "| NER | Africa        | Niger        | 30.08572 |   6.031 | 30  -  39 | 0  -  499 |\n",
       "| MUS | Africa        | Mauritius    | 35.31603 |   7.863 | 30  -  39 | 0  -  499 |\n",
       "| YEM | Asia          | Yemen        | 35.94789 |  20.519 | 30  -  39 | 0  -  499 |\n",
       "| JPN | Asia          | Japan        | 36.09442 |  37.003 | 30  -  39 | 0  -  499 |\n",
       "| NZL | Oceania       | New Zealand  | 39.08291 |   5.184 | 30  -  39 | 0  -  499 |\n",
       "| EST | Europe        | Estonia      | 39.36933 | 259.321 | 30  -  39 | 0  -  499 |\n",
       "| SYC | Africa        | Seychelles   | 40.04352 |  20.338 | 40  -  49 | 0  -  499 |\n",
       "| SOM | Africa        | Somalia      | 40.43750 |   8.180 | 40  -  49 | 0  -  499 |\n",
       "| FIN | Europe        | Finland      | 41.10017 | 112.079 | 40  -  49 | 0  -  499 |\n",
       "| BFA | Africa        | Burkina Faso | 42.91691 |   5.023 | 40  -  49 | 0  -  499 |\n",
       "\n"
      ],
      "text/plain": [
       "   CountryCode continent     CountryName  mean_si  dpm     mean_si_group\n",
       "1  BDI         Africa        Burundi      13.89500   0.168 10  -  19    \n",
       "2  NIC         North America Nicaragua    14.73781  25.360 10  -  19    \n",
       "3  BLR         Europe        Belarus      17.28557 169.430 10  -  19    \n",
       "4  TWN         Asia          Taiwan       24.46106   0.294 20  -  29    \n",
       "5  TZA         Africa        Tanzania     27.57467   0.352 20  -  29    \n",
       "6  NER         Africa        Niger        30.08572   6.031 30  -  39    \n",
       "7  MUS         Africa        Mauritius    35.31603   7.863 30  -  39    \n",
       "8  YEM         Asia          Yemen        35.94789  20.519 30  -  39    \n",
       "9  JPN         Asia          Japan        36.09442  37.003 30  -  39    \n",
       "10 NZL         Oceania       New Zealand  39.08291   5.184 30  -  39    \n",
       "11 EST         Europe        Estonia      39.36933 259.321 30  -  39    \n",
       "12 SYC         Africa        Seychelles   40.04352  20.338 40  -  49    \n",
       "13 SOM         Africa        Somalia      40.43750   8.180 40  -  49    \n",
       "14 FIN         Europe        Finland      41.10017 112.079 40  -  49    \n",
       "15 BFA         Africa        Burkina Faso 42.91691   5.023 40  -  49    \n",
       "   dpm_group\n",
       "1  0  -  499\n",
       "2  0  -  499\n",
       "3  0  -  499\n",
       "4  0  -  499\n",
       "5  0  -  499\n",
       "6  0  -  499\n",
       "7  0  -  499\n",
       "8  0  -  499\n",
       "9  0  -  499\n",
       "10 0  -  499\n",
       "11 0  -  499\n",
       "12 0  -  499\n",
       "13 0  -  499\n",
       "14 0  -  499\n",
       "15 0  -  499"
      ]
     },
     "metadata": {},
     "output_type": "display_data"
    }
   ],
   "source": [
    "data$avg_si_vs_dpm %>% arrange(mean_si) %>% slice_head(n=15)"
   ]
  },
  {
   "cell_type": "markdown",
   "metadata": {},
   "source": [
    "Whilst there are a lot of countries that might check points 2 and 3 (African countries, Belarus), there some interesting cases:\n",
    "* Taiwan with mean SI in 20 - 29 range and 0.294 DPM.\n",
    "* Japan with mean SI in 30 - 39 range and 37 DPM.\n",
    "* New Zealand with mean SI in 30 - 39 and 39 DPM.\n",
    "* Estonia with mean SI in 30 - 39 and 259 DPM.\n",
    "* Finland with mean SI in 40 - 49 and 112 DPM."
   ]
  },
  {
   "cell_type": "markdown",
   "metadata": {},
   "source": [
    "**By continent**"
   ]
  },
  {
   "cell_type": "code",
   "execution_count": 13,
   "metadata": {},
   "outputs": [
    {
     "data": {
      "image/png": "[encoded data removed]",
      "text/plain": [
       "plot without title"
      ]
     },
     "metadata": {
      "image/png": {
       "height": 720,
       "width": 720
      }
     },
     "output_type": "display_data"
    }
   ],
   "source": [
    "p1 = stringency_vs_dpm_plot(data$avg_si_vs_dpm %>% \n",
    "                              filter(continent=='Europe')) + labs(title='Avg(Stringency) ~ DPM | Europe')\n",
    "p2 = stringency_vs_dpm_plot(data$avg_si_vs_dpm %>% \n",
    "                              filter(continent=='Asia')) + labs(title='Avg(Stringency) ~ DPM | Asia')\n",
    "p3 = stringency_vs_dpm_plot(data$avg_si_vs_dpm %>% \n",
    "                              filter(continent=='Africa')) + labs(title='Avg(Stringency) ~ DPM | Africa')\n",
    "p4 = stringency_vs_dpm_plot(data$avg_si_vs_dpm %>% \n",
    "                              filter(continent=='North America')) + labs(title='Avg(Stringency) ~ DPM | North America')\n",
    "p5 = stringency_vs_dpm_plot(data$avg_si_vs_dpm %>% \n",
    "                              filter(continent=='South America')) + labs(title='Avg(Stringency) ~ DPM | South America')\n",
    "\n",
    "options(repr.plot.width = 12, repr.plot.height=12)\n",
    "combined <- p1 / (p2+p3) / (p4 + p5) & theme(legend.position = \"bottom\")\n",
    "combined + plot_layout(guides = \"collect\")"
   ]
  },
  {
   "cell_type": "markdown",
   "metadata": {},
   "source": [
    "Same pattern occurs by continent as does for the whole world -- average SI in 50-59 range is deadliest.\n",
    "\n",
    "**NOTE**. The above graph excludes the following countries: Brazil, United States, Canada, United Kingdom. This is due to their stringency measures being split by region and I currently don't have deaths data by region for all of those countries."
   ]
  },
  {
   "cell_type": "markdown",
   "metadata": {},
   "source": [
    "**TODO**. Add graphs for every policy effectivness. Would this be usefull though? How does the rest of actions change anything? I suppose if the DPM is not decreasing with average stringency this should indicate that it is a pointless restriction."
   ]
  },
  {
   "cell_type": "markdown",
   "metadata": {},
   "source": [
    "## Policies used in Europe\n",
    "\n",
    "### Deadliest countries"
   ]
  },
  {
   "cell_type": "code",
   "execution_count": 29,
   "metadata": {},
   "outputs": [
    {
     "data": {
      "text/html": [
       "<table class=\"dataframe\">\n",
       "<caption>A tibble: 10 × 7</caption>\n",
       "<thead>\n",
       "\t<tr><th scope=col>CountryCode</th><th scope=col>continent</th><th scope=col>CountryName</th><th scope=col>mean_si</th><th scope=col>dpm</th><th scope=col>mean_si_group</th><th scope=col>dpm_group</th></tr>\n",
       "\t<tr><th scope=col>&lt;chr&gt;</th><th scope=col>&lt;chr&gt;</th><th scope=col>&lt;chr&gt;</th><th scope=col>&lt;dbl&gt;</th><th scope=col>&lt;dbl&gt;</th><th scope=col>&lt;fct&gt;</th><th scope=col>&lt;fct&gt;</th></tr>\n",
       "</thead>\n",
       "<tbody>\n",
       "\t<tr><td>SMR</td><td>Europe</td><td>San Marino            </td><td>50.30916</td><td>1915.257</td><td>50  -  59</td><td>1500  -  1999</td></tr>\n",
       "\t<tr><td>BEL</td><td>Europe</td><td>Belgium               </td><td>56.50017</td><td>1773.484</td><td>50  -  59</td><td>1500  -  1999</td></tr>\n",
       "\t<tr><td>SVN</td><td>Europe</td><td>Slovenia              </td><td>52.94906</td><td>1554.163</td><td>50  -  59</td><td>1500  -  1999</td></tr>\n",
       "\t<tr><td>ITA</td><td>Europe</td><td>Italy                 </td><td>64.49633</td><td>1375.364</td><td>60  -  69</td><td>1000  -  1499</td></tr>\n",
       "\t<tr><td>BIH</td><td>Europe</td><td>Bosnia and Herzegovina</td><td>56.61687</td><td>1374.354</td><td>50  -  59</td><td>1000  -  1499</td></tr>\n",
       "\t<tr><td>CZE</td><td>Europe</td><td>Czech Republic        </td><td>52.58055</td><td>1367.637</td><td>50  -  59</td><td>1000  -  1499</td></tr>\n",
       "\t<tr><td>BGR</td><td>Europe</td><td>Bulgaria              </td><td>48.74680</td><td>1239.702</td><td>40  -  49</td><td>1000  -  1499</td></tr>\n",
       "\t<tr><td>HUN</td><td>Europe</td><td>Hungary               </td><td>59.10458</td><td>1192.503</td><td>50  -  59</td><td>1000  -  1499</td></tr>\n",
       "\t<tr><td>AND</td><td>Europe</td><td>Andorra               </td><td>46.46368</td><td>1190.707</td><td>40  -  49</td><td>1000  -  1499</td></tr>\n",
       "\t<tr><td>ESP</td><td>Europe</td><td>Spain                 </td><td>62.04830</td><td>1158.662</td><td>60  -  69</td><td>1000  -  1499</td></tr>\n",
       "</tbody>\n",
       "</table>\n"
      ],
      "text/latex": [
       "A tibble: 10 × 7\n",
       "\\begin{tabular}{lllllll}\n",
       " CountryCode & continent & CountryName & mean\\_si & dpm & mean\\_si\\_group & dpm\\_group\\\\\n",
       " <chr> & <chr> & <chr> & <dbl> & <dbl> & <fct> & <fct>\\\\\n",
       "\\hline\n",
       "\t SMR & Europe & San Marino             & 50.30916 & 1915.257 & 50  -  59 & 1500  -  1999\\\\\n",
       "\t BEL & Europe & Belgium                & 56.50017 & 1773.484 & 50  -  59 & 1500  -  1999\\\\\n",
       "\t SVN & Europe & Slovenia               & 52.94906 & 1554.163 & 50  -  59 & 1500  -  1999\\\\\n",
       "\t ITA & Europe & Italy                  & 64.49633 & 1375.364 & 60  -  69 & 1000  -  1499\\\\\n",
       "\t BIH & Europe & Bosnia and Herzegovina & 56.61687 & 1374.354 & 50  -  59 & 1000  -  1499\\\\\n",
       "\t CZE & Europe & Czech Republic         & 52.58055 & 1367.637 & 50  -  59 & 1000  -  1499\\\\\n",
       "\t BGR & Europe & Bulgaria               & 48.74680 & 1239.702 & 40  -  49 & 1000  -  1499\\\\\n",
       "\t HUN & Europe & Hungary                & 59.10458 & 1192.503 & 50  -  59 & 1000  -  1499\\\\\n",
       "\t AND & Europe & Andorra                & 46.46368 & 1190.707 & 40  -  49 & 1000  -  1499\\\\\n",
       "\t ESP & Europe & Spain                  & 62.04830 & 1158.662 & 60  -  69 & 1000  -  1499\\\\\n",
       "\\end{tabular}\n"
      ],
      "text/markdown": [
       "\n",
       "A tibble: 10 × 7\n",
       "\n",
       "| CountryCode &lt;chr&gt; | continent &lt;chr&gt; | CountryName &lt;chr&gt; | mean_si &lt;dbl&gt; | dpm &lt;dbl&gt; | mean_si_group &lt;fct&gt; | dpm_group &lt;fct&gt; |\n",
       "|---|---|---|---|---|---|---|\n",
       "| SMR | Europe | San Marino             | 50.30916 | 1915.257 | 50  -  59 | 1500  -  1999 |\n",
       "| BEL | Europe | Belgium                | 56.50017 | 1773.484 | 50  -  59 | 1500  -  1999 |\n",
       "| SVN | Europe | Slovenia               | 52.94906 | 1554.163 | 50  -  59 | 1500  -  1999 |\n",
       "| ITA | Europe | Italy                  | 64.49633 | 1375.364 | 60  -  69 | 1000  -  1499 |\n",
       "| BIH | Europe | Bosnia and Herzegovina | 56.61687 | 1374.354 | 50  -  59 | 1000  -  1499 |\n",
       "| CZE | Europe | Czech Republic         | 52.58055 | 1367.637 | 50  -  59 | 1000  -  1499 |\n",
       "| BGR | Europe | Bulgaria               | 48.74680 | 1239.702 | 40  -  49 | 1000  -  1499 |\n",
       "| HUN | Europe | Hungary                | 59.10458 | 1192.503 | 50  -  59 | 1000  -  1499 |\n",
       "| AND | Europe | Andorra                | 46.46368 | 1190.707 | 40  -  49 | 1000  -  1499 |\n",
       "| ESP | Europe | Spain                  | 62.04830 | 1158.662 | 60  -  69 | 1000  -  1499 |\n",
       "\n"
      ],
      "text/plain": [
       "   CountryCode continent CountryName            mean_si  dpm      mean_si_group\n",
       "1  SMR         Europe    San Marino             50.30916 1915.257 50  -  59    \n",
       "2  BEL         Europe    Belgium                56.50017 1773.484 50  -  59    \n",
       "3  SVN         Europe    Slovenia               52.94906 1554.163 50  -  59    \n",
       "4  ITA         Europe    Italy                  64.49633 1375.364 60  -  69    \n",
       "5  BIH         Europe    Bosnia and Herzegovina 56.61687 1374.354 50  -  59    \n",
       "6  CZE         Europe    Czech Republic         52.58055 1367.637 50  -  59    \n",
       "7  BGR         Europe    Bulgaria               48.74680 1239.702 40  -  49    \n",
       "8  HUN         Europe    Hungary                59.10458 1192.503 50  -  59    \n",
       "9  AND         Europe    Andorra                46.46368 1190.707 40  -  49    \n",
       "10 ESP         Europe    Spain                  62.04830 1158.662 60  -  69    \n",
       "   dpm_group    \n",
       "1  1500  -  1999\n",
       "2  1500  -  1999\n",
       "3  1500  -  1999\n",
       "4  1000  -  1499\n",
       "5  1000  -  1499\n",
       "6  1000  -  1499\n",
       "7  1000  -  1499\n",
       "8  1000  -  1499\n",
       "9  1000  -  1499\n",
       "10 1000  -  1499"
      ]
     },
     "metadata": {},
     "output_type": "display_data"
    }
   ],
   "source": [
    "data$avg_si_vs_dpm %>% filter(continent == 'Europe') %>% arrange(desc(dpm)) %>% slice_head(n=10)"
   ]
  },
  {
   "cell_type": "markdown",
   "metadata": {},
   "source": [
    "## Least deadly countries"
   ]
  },
  {
   "cell_type": "code",
   "execution_count": 41,
   "metadata": {},
   "outputs": [
    {
     "data": {
      "text/html": [
       "<table class=\"dataframe\">\n",
       "<caption>A tibble: 10 × 7</caption>\n",
       "<thead>\n",
       "\t<tr><th scope=col>CountryCode</th><th scope=col>continent</th><th scope=col>CountryName</th><th scope=col>mean_si</th><th scope=col>dpm</th><th scope=col>mean_si_group</th><th scope=col>dpm_group</th></tr>\n",
       "\t<tr><th scope=col>&lt;chr&gt;</th><th scope=col>&lt;chr&gt;</th><th scope=col>&lt;chr&gt;</th><th scope=col>&lt;dbl&gt;</th><th scope=col>&lt;dbl&gt;</th><th scope=col>&lt;fct&gt;</th><th scope=col>&lt;fct&gt;</th></tr>\n",
       "</thead>\n",
       "<tbody>\n",
       "\t<tr><td>ISL</td><td>Europe</td><td>Iceland</td><td>44.97770</td><td> 84.982</td><td>40  -  49</td><td>0  -  499</td></tr>\n",
       "\t<tr><td>NOR</td><td>Europe</td><td>Norway </td><td>48.31479</td><td> 96.841</td><td>40  -  49</td><td>0  -  499</td></tr>\n",
       "\t<tr><td>FIN</td><td>Europe</td><td>Finland</td><td>41.10017</td><td>112.079</td><td>40  -  49</td><td>0  -  499</td></tr>\n",
       "\t<tr><td>BLR</td><td>Europe</td><td>Belarus</td><td>17.28557</td><td>169.430</td><td>10  -  19</td><td>0  -  499</td></tr>\n",
       "\t<tr><td>CYP</td><td>Europe</td><td>Cyprus </td><td>65.87354</td><td>200.936</td><td>60  -  69</td><td>0  -  499</td></tr>\n",
       "\t<tr><td>MCO</td><td>Europe</td><td>Monaco </td><td>64.15584</td><td>229.334</td><td>60  -  69</td><td>0  -  499</td></tr>\n",
       "\t<tr><td>EST</td><td>Europe</td><td>Estonia</td><td>39.36933</td><td>259.321</td><td>30  -  39</td><td>0  -  499</td></tr>\n",
       "\t<tr><td>DNK</td><td>Europe</td><td>Denmark</td><td>49.39315</td><td>317.323</td><td>40  -  49</td><td>0  -  499</td></tr>\n",
       "\t<tr><td>ALB</td><td>Europe</td><td>Albania</td><td>67.00959</td><td>447.217</td><td>60  -  69</td><td>0  -  499</td></tr>\n",
       "\t<tr><td>RUS</td><td>Europe</td><td>Russia </td><td>54.93392</td><td>449.736</td><td>50  -  59</td><td>0  -  499</td></tr>\n",
       "</tbody>\n",
       "</table>\n"
      ],
      "text/latex": [
       "A tibble: 10 × 7\n",
       "\\begin{tabular}{lllllll}\n",
       " CountryCode & continent & CountryName & mean\\_si & dpm & mean\\_si\\_group & dpm\\_group\\\\\n",
       " <chr> & <chr> & <chr> & <dbl> & <dbl> & <fct> & <fct>\\\\\n",
       "\\hline\n",
       "\t ISL & Europe & Iceland & 44.97770 &  84.982 & 40  -  49 & 0  -  499\\\\\n",
       "\t NOR & Europe & Norway  & 48.31479 &  96.841 & 40  -  49 & 0  -  499\\\\\n",
       "\t FIN & Europe & Finland & 41.10017 & 112.079 & 40  -  49 & 0  -  499\\\\\n",
       "\t BLR & Europe & Belarus & 17.28557 & 169.430 & 10  -  19 & 0  -  499\\\\\n",
       "\t CYP & Europe & Cyprus  & 65.87354 & 200.936 & 60  -  69 & 0  -  499\\\\\n",
       "\t MCO & Europe & Monaco  & 64.15584 & 229.334 & 60  -  69 & 0  -  499\\\\\n",
       "\t EST & Europe & Estonia & 39.36933 & 259.321 & 30  -  39 & 0  -  499\\\\\n",
       "\t DNK & Europe & Denmark & 49.39315 & 317.323 & 40  -  49 & 0  -  499\\\\\n",
       "\t ALB & Europe & Albania & 67.00959 & 447.217 & 60  -  69 & 0  -  499\\\\\n",
       "\t RUS & Europe & Russia  & 54.93392 & 449.736 & 50  -  59 & 0  -  499\\\\\n",
       "\\end{tabular}\n"
      ],
      "text/markdown": [
       "\n",
       "A tibble: 10 × 7\n",
       "\n",
       "| CountryCode &lt;chr&gt; | continent &lt;chr&gt; | CountryName &lt;chr&gt; | mean_si &lt;dbl&gt; | dpm &lt;dbl&gt; | mean_si_group &lt;fct&gt; | dpm_group &lt;fct&gt; |\n",
       "|---|---|---|---|---|---|---|\n",
       "| ISL | Europe | Iceland | 44.97770 |  84.982 | 40  -  49 | 0  -  499 |\n",
       "| NOR | Europe | Norway  | 48.31479 |  96.841 | 40  -  49 | 0  -  499 |\n",
       "| FIN | Europe | Finland | 41.10017 | 112.079 | 40  -  49 | 0  -  499 |\n",
       "| BLR | Europe | Belarus | 17.28557 | 169.430 | 10  -  19 | 0  -  499 |\n",
       "| CYP | Europe | Cyprus  | 65.87354 | 200.936 | 60  -  69 | 0  -  499 |\n",
       "| MCO | Europe | Monaco  | 64.15584 | 229.334 | 60  -  69 | 0  -  499 |\n",
       "| EST | Europe | Estonia | 39.36933 | 259.321 | 30  -  39 | 0  -  499 |\n",
       "| DNK | Europe | Denmark | 49.39315 | 317.323 | 40  -  49 | 0  -  499 |\n",
       "| ALB | Europe | Albania | 67.00959 | 447.217 | 60  -  69 | 0  -  499 |\n",
       "| RUS | Europe | Russia  | 54.93392 | 449.736 | 50  -  59 | 0  -  499 |\n",
       "\n"
      ],
      "text/plain": [
       "   CountryCode continent CountryName mean_si  dpm     mean_si_group dpm_group\n",
       "1  ISL         Europe    Iceland     44.97770  84.982 40  -  49     0  -  499\n",
       "2  NOR         Europe    Norway      48.31479  96.841 40  -  49     0  -  499\n",
       "3  FIN         Europe    Finland     41.10017 112.079 40  -  49     0  -  499\n",
       "4  BLR         Europe    Belarus     17.28557 169.430 10  -  19     0  -  499\n",
       "5  CYP         Europe    Cyprus      65.87354 200.936 60  -  69     0  -  499\n",
       "6  MCO         Europe    Monaco      64.15584 229.334 60  -  69     0  -  499\n",
       "7  EST         Europe    Estonia     39.36933 259.321 30  -  39     0  -  499\n",
       "8  DNK         Europe    Denmark     49.39315 317.323 40  -  49     0  -  499\n",
       "9  ALB         Europe    Albania     67.00959 447.217 60  -  69     0  -  499\n",
       "10 RUS         Europe    Russia      54.93392 449.736 50  -  59     0  -  499"
      ]
     },
     "metadata": {},
     "output_type": "display_data"
    }
   ],
   "source": [
    "data$avg_si_vs_dpm %>% filter(continent == 'Europe') %>% arrange(dpm) %>% slice_head(n=10)"
   ]
  },
  {
   "cell_type": "markdown",
   "metadata": {},
   "source": [
    "Observations:\n",
    "* Iceland, Norway, Finland, Belarus, Estonia, Denmark and Russia are all nothern Europe countries.\n",
    "* Not sure if Russia's numbers can be trusted.\n",
    "* Cyprus, Monaco and Albania are southern Europe countries.\n",
    "* Northern European countries in the list were the least restrictive Avg(StringencyIndex) < 50.\n",
    "* Southern European countries in the list were the most restrictive Avg(StringencyIndex) >= 60."
   ]
  }
 ],
 "metadata": {
  "kernelspec": {
   "display_name": "R",
   "language": "R",
   "name": "ir"
  },
  "language_info": {
   "codemirror_mode": "r",
   "file_extension": ".r",
   "mimetype": "text/x-r-source",
   "name": "R",
   "pygments_lexer": "r",
   "version": "4.0.3"
  }
 },
 "nbformat": 4,
 "nbformat_minor": 4
}
