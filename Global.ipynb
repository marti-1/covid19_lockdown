{
 "cells": [
  {
   "cell_type": "markdown",
   "metadata": {},
   "source": [
    "# Report\n",
    "\n",
    "## Data sources\n",
    "\n",
    "**Government response**:\n",
    "* [CORONAVIRUS GOVERNMENT RESPONSE TRACKER](https://www.bsg.ox.ac.uk/research/research-projects/coronavirus-government-response-tracker#data)\n",
    "\n",
    "**Covid-19 deaths**:\n",
    "* [COVID-19 Data Repository by the Center for Systems Science and Engineering (CSSE) at Johns Hopkins University](https://github.com/CSSEGISandData/COVID-19)\n",
    "* [England & Wales](https://www.ons.gov.uk/peoplepopulationandcommunity/birthsdeathsandmarriages/deaths/bulletins/deathsregisteredweeklyinenglandandwalesprovisional/weekending8january2021)\n",
    "\n",
    "### Information about the data\n",
    "\n",
    "#### CORONAVIRUS GOVERNMENT RESPONSE TRACKER\n",
    "\n",
    "The dataset provides `StringencyIndex` value for every country by date, which combines categorical variables `C1-C8` using the following formula:\n",
    "\n",
    "$$\n",
    "\\text{index} = \\frac{1}{k} \\sum_{j=1}^k I_j \\\\\n",
    "$$\n",
    "\n",
    "Each sub-index score (_I_) for any given indicator (_j_) on any given day (_t_), is calculated by the function described in equation 2 based on the following parameters:\n",
    "\n",
    "- the maximum value of the indicator (_N<sub>j</sub>_)\n",
    "- whether that indicator has a flag (_F<sub>j</sub>_=1 if the indicator has a flag variable, or 0 if the indicator does not have a flag variable)\n",
    "- the recorded policy value on the ordinal scale (_v<sub>j,t</sub>_)\n",
    "- the recorded binary flag for that indicator (_f<sub>j,t</sub>_)\n",
    "\n",
    "$$\n",
    "I_{j,t} = 100 \\frac{v_{j,t} - 0.5(F_j - f_{j,t})}{N_j}\n",
    "$$\n",
    "\n",
    "**Indicators C1-C8**\n",
    "\n",
    "### Containment and closure policies\n",
    "\n",
    "| ID | Name | Description | Measurement | Coding |\n",
    "| --- | --- | --- | --- | --- |\n",
    "| C1 | `C1_School closing` | Record closings of schools and universities | Ordinal scale | 0 - no measures <br/>1 - recommend closing or all schools open with alterations resulting in significant differences compared to non-Covid-19 operations <br/>2 - require closing (only some levels or categories, eg just high school, or just public schools) <br/>3 - require closing all levels <br/>Blank - no data |\n",
    "| | `C1_Flag` | | Binary flag for geographic scope | 0 - targeted <br/>1- general <br/>Blank - no data |\n",
    "| C2 | `C2_Workplace closing` | Record closings of workplaces | Ordinal scale | 0 - no measures <br/>1 - recommend closing (or recommend work from home) <br/>2 - require closing (or work from home) for some sectors or categories of workers <br/>3 - require closing (or work from home) for all-but-essential workplaces (eg grocery stores, doctors) <br/>Blank - no data |\n",
    "| | `C2_Flag` | | Binary flag for geographic scope | 0 - targeted <br/>1- general <br/>Blank - no data |\n",
    "| C3 | `C3_Cancel public events` | Record cancelling public events | Ordinal scale | 0 - no measures <br/>1 - recommend cancelling <br/>2 - require cancelling <br/>Blank - no data |\n",
    "| | `C3_Flag` | | Binary flag for geographic scope | 0 - targeted <br/>1- general <br/>Blank - no data |\n",
    "| C4 | `C4_Restrictions on gatherings` | Record limits on gatherings | Ordinal scale | 0 - no restrictions <br/>1 - restrictions on very large gatherings (the limit is above 1000 people) <br/>2 - restrictions on gatherings between 101-1000 people <br/>3 - restrictions on gatherings between 11-100 people <br/>4 - restrictions on gatherings of 10 people or less <br/>Blank - no data |\n",
    "| | `C4_Flag` | | Binary flag for geographic scope | 0 - targeted <br/>1- general <br/>Blank - no data |\n",
    "| C5 | `C5_Close public transport` | Record closing of public transport | Ordinal scale | 0 - no measures <br/>1 - recommend closing (or significantly reduce volume/route/means of transport available) <br/>2 - require closing (or prohibit most citizens from using it) <br/>Blank - no data |\n",
    "| | `C5_Flag` | | Binary flag for geographic scope | 0 - targeted <br/>1- general <br/>Blank - no data |\n",
    "| C6 | `C6_Stay at home requirements` | Record orders to \"shelter-in-place\" and otherwise confine to the home | Ordinal scale | 0 - no measures <br/>1 - recommend not leaving house <br/>2 - require not leaving house with exceptions for daily exercise, grocery shopping, and 'essential' trips <br/>3 - require not leaving house with minimal exceptions (eg allowed to leave once a week, or only one person can leave at a time, etc) <br/>Blank - no data |\n",
    "| | `C6_Flag` | | Binary flag for geographic scope | 0 - targeted <br/>1- general <br/>Blank - no data |\n",
    "| C7 | `C7_Restrictions on internal movement` | Record restrictions on internal movement between cities/regions | Ordinal scale | 0 - no measures <br/>1 - recommend not to travel between regions/cities <br/>2 - internal movement restrictions in place <br/>Blank - no data |\n",
    "| | `C7_Flag` | | Binary flag for geographic scope | 0 - targeted <br/>1- general <br/>Blank - no data |\n",
    "| C8 | `C8_International travel controls` | Record restrictions on international travel <br/><br/>Note: this records policy for foreign travellers, not citizens | Ordinal scale | 0 - no restrictions <br/>1 - screening arrivals <br/>2 - quarantine arrivals from some or all regions <br/>3 - ban arrivals from some regions <br/>4 - ban on all regions or total border closure <br/>Blank - no data |\n",
    "\n",
    "Summary:\n",
    "\n",
    "| Indicator | Max. value (_N<sub>j</sub>_) | Flag? (_F<sub>j</sub>_) |\n",
    "| --- | --- | --- |\n",
    "| C1 | 3 (0, 1, 2, 3) | yes=1 |\n",
    "| C2 | 3 (0, 1, 2, 3) | yes=1 |\n",
    "| C3 | 2 (0, 1, 2) | yes=1 |\n",
    "| C4 | 4 (0, 1, 2, 3, 4) | yes=1 |\n",
    "| C5 | 2 (0, 1, 2) | yes=1 |\n",
    "| C6 | 3 (0, 1, 2, 3) | yes=1 |\n",
    "| C7 | 2 (0, 1, 2) | yes=1 |\n",
    "| C8 | 4 (0, 1, 2, 3, 4) | no=0 |\n",
    "\n",
    "More information on other [indicators](https://github.com/OxCGRT/covid-policy-tracker/blob/master/documentation/codebook.md) and how indices are [computed](https://github.com/OxCGRT/covid-policy-tracker/blob/master/documentation/index_methodology.md)."
   ]
  },
  {
   "cell_type": "markdown",
   "metadata": {},
   "source": [
    "## Correlation between stringent policies and saved lives\n",
    "\n",
    "Assumptions:\n",
    "- Stringency of policies of every country is quantized as an average StringencyIndex.\n",
    "- Efficiency of every country is measured as deaths per million (DPM)."
   ]
  },
  {
   "cell_type": "code",
   "execution_count": null,
   "metadata": {},
   "outputs": [],
   "source": [
    "# get every country average StringencyIndex and total deaths per million.\n",
    "data = load_data()"
   ]
  },
  {
   "cell_type": "markdown",
   "metadata": {},
   "source": [
    "**Worldwide**"
   ]
  },
  {
   "cell_type": "code",
   "execution_count": null,
   "metadata": {},
   "outputs": [],
   "source": [
    "options(repr.plot.width = 10, repr.plot.height=6)\n",
    "stringency_vs_dpm_plot(data$avgsi_vs_dpm, title='Avg(Stringency) ~ DPM')"
   ]
  },
  {
   "cell_type": "markdown",
   "metadata": {},
   "source": [
    "Comments TBA."
   ]
  },
  {
   "cell_type": "markdown",
   "metadata": {},
   "source": [
    "**By continent**"
   ]
  },
  {
   "cell_type": "code",
   "execution_count": null,
   "metadata": {},
   "outputs": [],
   "source": [
    "p1 = stringency_vs_dpm_plot(data$avgsi_vs_dpm %>% \n",
    "                              filter(continent=='Europe'), title='Avg(Stringency) ~ DPM | Europe')\n",
    "p2 = stringency_vs_dpm_plot(data$avgsi_vs_dpm %>% \n",
    "                              filter(continent=='Asia'), title='Avg(Stringency) ~ DPM | Asia')\n",
    "p3 = stringency_vs_dpm_plot(data$avgsi_vs_dpm %>% \n",
    "                              filter(continent=='Africa'), title='Avg(Stringency) ~ DPM | Africa')\n",
    "p4 = stringency_vs_dpm_plot(data$avgsi_vs_dpm %>% \n",
    "                              filter(continent=='North America'), title='Avg(Stringency) ~ DPM | North America')\n",
    "p5 = stringency_vs_dpm_plot(data$avgsi_vs_dpm %>% \n",
    "                              filter(continent=='South America'), title='Avg(Stringency) ~ DPM | South America')\n",
    "\n",
    "options(repr.plot.width = 12, repr.plot.height=12)\n",
    "combined <- p1 / (p2+p3) / (p4 + p5) & theme(legend.position = \"bottom\")\n",
    "combined + plot_layout(guides = \"collect\")"
   ]
  },
  {
   "cell_type": "markdown",
   "metadata": {},
   "source": [
    "Comments TBA."
   ]
  },
  {
   "cell_type": "code",
   "execution_count": 23,
   "metadata": {},
   "outputs": [],
   "source": [
    "# Show policy heatmaps of countries that have low level of restrictions and low DPM"
   ]
  }
 ],
 "metadata": {
  "kernelspec": {
   "display_name": "R",
   "language": "R",
   "name": "ir"
  },
  "language_info": {
   "codemirror_mode": "r",
   "file_extension": ".r",
   "mimetype": "text/x-r-source",
   "name": "R",
   "pygments_lexer": "r",
   "version": "4.0.3"
  }
 },
 "nbformat": 4,
 "nbformat_minor": 4
}
