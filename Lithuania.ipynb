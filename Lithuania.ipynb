{
 "cells": [
  {
   "cell_type": "markdown",
   "metadata": {},
   "source": [
    "# Lithuania\n",
    "\n",
    "Compare Lithunia response and results with the neighbour countries:\n",
    "- Show policy heatmaps\n",
    "- Show relative DPM on a map\n",
    "- show relative Avg(StringencyIndex) on a map"
   ]
  },
  {
   "cell_type": "code",
   "execution_count": null,
   "metadata": {},
   "outputs": [],
   "source": [
    "data = load_data()\n",
    "\n",
    "neighbours <- ne_countries(scale = \"medium\", \n",
    "                           country=c('Lithuania', 'Latvia', 'Estonia', 'Belarus', 'Poland'), \n",
    "                           returnclass = \"sf\")\n",
    "\n",
    "neighbours_si_vs_dpm = inner_join(neighbours, data$avg_si_vs_dpm, by=c('name' = 'CountryName'))\n",
    "\n",
    "p1 = ggplot(data = neighbours_si_vs_dpm) +\n",
    "  geom_sf(aes(fill=dpm)) +\n",
    "  labs(title='Deaths per million')\n",
    "\n",
    "p2 = ggplot(data = neighbours_si_vs_dpm) +\n",
    "  geom_sf(aes(fill=mean_si)) +\n",
    "  labs(title='Avg(Stringency)')\n",
    "\n",
    "p1 + p2"
   ]
  }
 ],
 "metadata": {
  "kernelspec": {
   "display_name": "R",
   "language": "R",
   "name": "ir"
  },
  "language_info": {
   "codemirror_mode": "r",
   "file_extension": ".r",
   "mimetype": "text/x-r-source",
   "name": "R",
   "pygments_lexer": "r",
   "version": "4.0.3"
  }
 },
 "nbformat": 4,
 "nbformat_minor": 4
}
